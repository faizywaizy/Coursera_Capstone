{
 "cells": [
  {
   "cell_type": "code",
   "execution_count": 34,
   "metadata": {},
   "outputs": [],
   "source": [
    "import pandas as pd"
   ]
  },
  {
   "cell_type": "code",
   "execution_count": 35,
   "metadata": {},
   "outputs": [],
   "source": [
    "housing_toronto = pd.read_csv('props.csv', index_col=None)"
   ]
  },
  {
   "cell_type": "code",
   "execution_count": 36,
   "metadata": {},
   "outputs": [],
   "source": [
    "housing_toronto = housing_toronto.drop(columns = 'Unnamed: 0').reset_index(drop=True)"
   ]
  },
  {
   "cell_type": "code",
   "execution_count": 37,
   "metadata": {},
   "outputs": [],
   "source": [
    "housing_toronto = housing_toronto[housing_toronto['lat'] <= 43.75]\n",
    "housing_toronto = housing_toronto[housing_toronto['lat'] >= 43.58]\n",
    "housing_toronto = housing_toronto[housing_toronto['lng'] >= -79.60]\n",
    "housing_toronto = housing_toronto[housing_toronto['lng'] <= -79.15]\n",
    "housing_toronto = housing_toronto[housing_toronto['Address'].str.contains('Toronto')]\n",
    "housing_toronto = housing_toronto[housing_toronto['Price ($)'] > 200000]\n",
    "housing_toronto = housing_toronto.reset_index(drop=True)"
   ]
  },
  {
   "cell_type": "code",
   "execution_count": 45,
   "metadata": {},
   "outputs": [
    {
     "data": {
      "text/html": [
       "<div>\n",
       "<style scoped>\n",
       "    .dataframe tbody tr th:only-of-type {\n",
       "        vertical-align: middle;\n",
       "    }\n",
       "\n",
       "    .dataframe tbody tr th {\n",
       "        vertical-align: top;\n",
       "    }\n",
       "\n",
       "    .dataframe thead th {\n",
       "        text-align: right;\n",
       "    }\n",
       "</style>\n",
       "<table border=\"1\" class=\"dataframe\">\n",
       "  <thead>\n",
       "    <tr style=\"text-align: right;\">\n",
       "      <th></th>\n",
       "      <th>AreaName</th>\n",
       "      <th>Price ($)</th>\n",
       "      <th>lat</th>\n",
       "      <th>lng</th>\n",
       "    </tr>\n",
       "  </thead>\n",
       "  <tbody>\n",
       "    <tr>\n",
       "      <td>0</td>\n",
       "      <td>Alderwood</td>\n",
       "      <td>1.059907e+06</td>\n",
       "      <td>43.602732</td>\n",
       "      <td>-79.544717</td>\n",
       "    </tr>\n",
       "    <tr>\n",
       "      <td>1</td>\n",
       "      <td>Armour Heights</td>\n",
       "      <td>3.270000e+06</td>\n",
       "      <td>43.746012</td>\n",
       "      <td>-79.428058</td>\n",
       "    </tr>\n",
       "    <tr>\n",
       "      <td>2</td>\n",
       "      <td>Bay Cloverhill</td>\n",
       "      <td>2.490000e+05</td>\n",
       "      <td>43.665531</td>\n",
       "      <td>-79.385147</td>\n",
       "    </tr>\n",
       "    <tr>\n",
       "      <td>3</td>\n",
       "      <td>Beach Hill</td>\n",
       "      <td>8.990000e+05</td>\n",
       "      <td>43.678930</td>\n",
       "      <td>-79.313476</td>\n",
       "    </tr>\n",
       "    <tr>\n",
       "      <td>4</td>\n",
       "      <td>Bedford Park</td>\n",
       "      <td>1.770333e+06</td>\n",
       "      <td>43.727431</td>\n",
       "      <td>-79.410515</td>\n",
       "    </tr>\n",
       "    <tr>\n",
       "      <td>...</td>\n",
       "      <td>...</td>\n",
       "      <td>...</td>\n",
       "      <td>...</td>\n",
       "      <td>...</td>\n",
       "    </tr>\n",
       "    <tr>\n",
       "      <td>164</td>\n",
       "      <td>Woodbine Heights</td>\n",
       "      <td>1.124500e+06</td>\n",
       "      <td>43.689850</td>\n",
       "      <td>-79.317177</td>\n",
       "    </tr>\n",
       "    <tr>\n",
       "      <td>165</td>\n",
       "      <td>Wynford-Concorde</td>\n",
       "      <td>4.788300e+05</td>\n",
       "      <td>43.723981</td>\n",
       "      <td>-79.334929</td>\n",
       "    </tr>\n",
       "    <tr>\n",
       "      <td>166</td>\n",
       "      <td>Yonge and Lawrence</td>\n",
       "      <td>1.589000e+06</td>\n",
       "      <td>43.728615</td>\n",
       "      <td>-79.402267</td>\n",
       "    </tr>\n",
       "    <tr>\n",
       "      <td>167</td>\n",
       "      <td>York Mills</td>\n",
       "      <td>4.768648e+06</td>\n",
       "      <td>43.744719</td>\n",
       "      <td>-79.395288</td>\n",
       "    </tr>\n",
       "    <tr>\n",
       "      <td>168</td>\n",
       "      <td>York University Heights</td>\n",
       "      <td>9.510000e+05</td>\n",
       "      <td>43.749916</td>\n",
       "      <td>-79.503555</td>\n",
       "    </tr>\n",
       "  </tbody>\n",
       "</table>\n",
       "<p>169 rows × 4 columns</p>\n",
       "</div>"
      ],
      "text/plain": [
       "                    AreaName     Price ($)        lat        lng\n",
       "0                  Alderwood  1.059907e+06  43.602732 -79.544717\n",
       "1             Armour Heights  3.270000e+06  43.746012 -79.428058\n",
       "2             Bay Cloverhill  2.490000e+05  43.665531 -79.385147\n",
       "3                 Beach Hill  8.990000e+05  43.678930 -79.313476\n",
       "4               Bedford Park  1.770333e+06  43.727431 -79.410515\n",
       "..                       ...           ...        ...        ...\n",
       "164         Woodbine Heights  1.124500e+06  43.689850 -79.317177\n",
       "165         Wynford-Concorde  4.788300e+05  43.723981 -79.334929\n",
       "166       Yonge and Lawrence  1.589000e+06  43.728615 -79.402267\n",
       "167               York Mills  4.768648e+06  43.744719 -79.395288\n",
       "168  York University Heights  9.510000e+05  43.749916 -79.503555\n",
       "\n",
       "[169 rows x 4 columns]"
      ]
     },
     "execution_count": 45,
     "metadata": {},
     "output_type": "execute_result"
    }
   ],
   "source": [
    "housing_toronto = housing_toronto.groupby('AreaName').mean()\n",
    "housing_toronto.reset_index()\n"
   ]
  },
  {
   "cell_type": "code",
   "execution_count": null,
   "metadata": {},
   "outputs": [],
   "source": []
  }
 ],
 "metadata": {
  "kernelspec": {
   "display_name": "Python 3",
   "language": "python",
   "name": "python3"
  },
  "language_info": {
   "codemirror_mode": {
    "name": "ipython",
    "version": 3
   },
   "file_extension": ".py",
   "mimetype": "text/x-python",
   "name": "python",
   "nbconvert_exporter": "python",
   "pygments_lexer": "ipython3",
   "version": "3.7.4"
  }
 },
 "nbformat": 4,
 "nbformat_minor": 2
}
